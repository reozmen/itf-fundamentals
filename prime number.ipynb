{
 "cells": [
  {
   "cell_type": "code",
   "execution_count": null,
   "id": "a85794c9",
   "metadata": {},
   "outputs": [],
   "source": [
    "num = int(input(\"Enter a number: \"))\n",
    "\n",
    "if num > 1:\n",
    "\n",
    "   for i in range(2,num):\n",
    "\n",
    "       if (num % i) == 0:\n",
    "\n",
    "           print(num,\"is not a prime number\")\n",
    "\n",
    "           break\n",
    "\n",
    "   else:\n",
    "\n",
    "       print(num,\"is a prime number\")\n",
    "\n",
    "else:\n",
    "\n",
    "   print(num,\"is not a prime number\")"
   ]
  },
  {
   "cell_type": "code",
   "execution_count": null,
   "id": "2a784faa",
   "metadata": {},
   "outputs": [],
   "source": []
  },
  {
   "cell_type": "code",
   "execution_count": null,
   "id": "3af4d357",
   "metadata": {},
   "outputs": [],
   "source": []
  }
 ],
 "metadata": {
  "kernelspec": {
   "display_name": "Python 3",
   "language": "python",
   "name": "python3"
  },
  "language_info": {
   "codemirror_mode": {
    "name": "ipython",
    "version": 3
   },
   "file_extension": ".py",
   "mimetype": "text/x-python",
   "name": "python",
   "nbconvert_exporter": "python",
   "pygments_lexer": "ipython3",
   "version": "3.8.8"
  }
 },
 "nbformat": 4,
 "nbformat_minor": 5
}
